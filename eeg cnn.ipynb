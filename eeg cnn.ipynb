{
 "cells": [
  {
   "cell_type": "code",
   "execution_count": 1,
   "id": "9b97ae55",
   "metadata": {},
   "outputs": [],
   "source": [
    "import numpy as np # linear algebra\n",
    "import pandas as pd # data processing, CSV file I/O (e.g. pd.read_csv)\n",
    "from BCI2kReader import BCI2kReader as b2k\n",
    "from matplotlib import pyplot\n",
    "import matplotlib.pyplot as plt\n",
    "import pandas as pd\n",
    "from PIL import Image as im"
   ]
  },
  {
   "cell_type": "code",
   "execution_count": 2,
   "id": "408bac56",
   "metadata": {},
   "outputs": [
    {
     "name": "stdout",
     "output_type": "stream",
     "text": [
      "WARNING:tensorflow:Please fix your imports. Module tensorflow.python.training.tracking.base has been moved to tensorflow.python.trackable.base. The old module will be deleted in version 2.11.\n",
      "WARNING:tensorflow:Please fix your imports. Module tensorflow.python.training.tracking.resource has been moved to tensorflow.python.trackable.resource. The old module will be deleted in version 2.11.\n",
      "WARNING:tensorflow:Please fix your imports. Module tensorflow.python.training.tracking.graph_view has been moved to tensorflow.python.checkpoint.graph_view. The old module will be deleted in version 2.11.\n",
      "WARNING:tensorflow:Please fix your imports. Module tensorflow.python.training.saving.functional_saver has been moved to tensorflow.python.checkpoint.functional_saver. The old module will be deleted in version 2.11.\n",
      "WARNING:tensorflow:Please fix your imports. Module tensorflow.python.training.saving.checkpoint_options has been moved to tensorflow.python.checkpoint.checkpoint_options. The old module will be deleted in version 2.11.\n"
     ]
    }
   ],
   "source": [
    "import keras\n",
    "from keras.layers import Dense,Conv2D,MaxPool2D,Dropout,Flatten\n",
    "from keras.models import Sequential\n",
    "from keras.preprocessing import image\n",
    "import os\n",
    "import tensorflow as tf\n",
    "from tensorflow.keras.callbacks import EarlyStopping # Early Stopping\n",
    "from sklearn.utils.class_weight import compute_class_weight\n",
    "from tensorflow.keras.utils import img_to_array\n",
    "import easygui"
   ]
  },
  {
   "cell_type": "code",
   "execution_count": 3,
   "id": "ffab2996",
   "metadata": {},
   "outputs": [
    {
     "name": "stdout",
     "output_type": "stream",
     "text": [
      "proceed 1\n",
      "proceed 2\n",
      "proceed 3\n",
      "proceed 4\n",
      "proceed 5\n",
      "proceed 6\n",
      "proceed 7\n",
      "proceed 8\n",
      "proceed 9\n"
     ]
    }
   ],
   "source": [
    "import glob\n",
    "import os\n",
    "i = 0\n",
    "for filename in glob.glob('./dataset/normal/*.dat'):\n",
    "    with b2k.BCI2kReader(filename) as test:\n",
    "        my_states = test.read(-1)\n",
    "        my_signals= test.signals\n",
    "        my_signals = my_signals[:100]\n",
    "#         normal_dataset = pd.DataFrame(my_signals)\n",
    "#     fixed_normal_dataset = normal_dataset.merge(normal_dataset, how='right')\n",
    "    i=i+1\n",
    "    print('proceed', i )"
   ]
  },
  {
   "cell_type": "code",
   "execution_count": 4,
   "id": "18b62ea7",
   "metadata": {},
   "outputs": [
    {
     "name": "stdout",
     "output_type": "stream",
     "text": [
      "(16, 231144)\n"
     ]
    }
   ],
   "source": [
    "print(my_signals.shape)"
   ]
  },
  {
   "cell_type": "code",
   "execution_count": 5,
   "id": "123b106b",
   "metadata": {},
   "outputs": [],
   "source": [
    "data = im.fromarray(my_signals)\n",
    "if data.mode != 'RGB':\n",
    "    data = data.convert('RGB')\n",
    "data.save('gfg_dummy_pic.png')"
   ]
  },
  {
   "cell_type": "code",
   "execution_count": 6,
   "id": "eb1d4f4f",
   "metadata": {},
   "outputs": [
    {
     "data": {
      "text/plain": [
       "0    7.086751\n",
       "1    7.383750\n",
       "2    8.804812\n",
       "3    9.277125\n",
       "4    8.602687\n",
       "dtype: float32"
      ]
     },
     "execution_count": 6,
     "metadata": {},
     "output_type": "execute_result"
    }
   ],
   "source": [
    "df1 = pd.DataFrame(my_signals)\n",
    "mean01 = df1.mean()\n",
    "mean01.head()"
   ]
  },
  {
   "cell_type": "code",
   "execution_count": 7,
   "id": "50322e5b",
   "metadata": {},
   "outputs": [
    {
     "data": {
      "text/plain": [
       "<AxesSubplot:>"
      ]
     },
     "execution_count": 7,
     "metadata": {},
     "output_type": "execute_result"
    },
    {
     "data": {
      "image/png": "[encoded data removed]",
      "text/plain": [
       "<Figure size 432x288 with 1 Axes>"
      ]
     },
     "metadata": {
      "needs_background": "light"
     },
     "output_type": "display_data"
    }
   ],
   "source": [
    "mean01.plot()"
   ]
  },
  {
   "cell_type": "code",
   "execution_count": 8,
   "id": "f51264fc",
   "metadata": {},
   "outputs": [],
   "source": [
    "dfMean = mean01.describe()\n"
   ]
  },
  {
   "cell_type": "code",
   "execution_count": 9,
   "id": "98b99868",
   "metadata": {},
   "outputs": [],
   "source": [
    "df1 = pd.DataFrame(my_signals)\n",
    "label = [1, 1, 1, 1, 1, 1, 1, 1, 1, 1, 1, 1, 1, 1, 1, 1]\n",
    "dfNormal = df1.assign(Labels=label)"
   ]
  },
  {
   "cell_type": "code",
   "execution_count": 10,
   "id": "82152e93",
   "metadata": {},
   "outputs": [
    {
     "data": {
      "text/plain": [
       "RangeIndex(start=0, stop=16, step=1)"
      ]
     },
     "execution_count": 10,
     "metadata": {},
     "output_type": "execute_result"
    }
   ],
   "source": [
    "dfNormal.index"
   ]
  },
  {
   "cell_type": "code",
   "execution_count": 11,
   "id": "564b3fe9",
   "metadata": {},
   "outputs": [
    {
     "data": {
      "text/html": [
       "<div>\n",
       "<style scoped>\n",
       "    .dataframe tbody tr th:only-of-type {\n",
       "        vertical-align: middle;\n",
       "    }\n",
       "\n",
       "    .dataframe tbody tr th {\n",
       "        vertical-align: top;\n",
       "    }\n",
       "\n",
       "    .dataframe thead th {\n",
       "        text-align: right;\n",
       "    }\n",
       "</style>\n",
       "<table border=\"1\" class=\"dataframe\">\n",
       "  <thead>\n",
       "    <tr style=\"text-align: right;\">\n",
       "      <th></th>\n",
       "      <th>0</th>\n",
       "      <th>1</th>\n",
       "      <th>2</th>\n",
       "      <th>3</th>\n",
       "      <th>4</th>\n",
       "      <th>5</th>\n",
       "      <th>6</th>\n",
       "      <th>7</th>\n",
       "      <th>8</th>\n",
       "      <th>9</th>\n",
       "      <th>...</th>\n",
       "      <th>231135</th>\n",
       "      <th>231136</th>\n",
       "      <th>231137</th>\n",
       "      <th>231138</th>\n",
       "      <th>231139</th>\n",
       "      <th>231140</th>\n",
       "      <th>231141</th>\n",
       "      <th>231142</th>\n",
       "      <th>231143</th>\n",
       "      <th>Labels</th>\n",
       "    </tr>\n",
       "  </thead>\n",
       "  <tbody>\n",
       "    <tr>\n",
       "      <th>0</th>\n",
       "      <td>26.598000</td>\n",
       "      <td>24.716999</td>\n",
       "      <td>26.466000</td>\n",
       "      <td>27.323999</td>\n",
       "      <td>26.169001</td>\n",
       "      <td>25.740000</td>\n",
       "      <td>24.552000</td>\n",
       "      <td>20.031</td>\n",
       "      <td>17.193001</td>\n",
       "      <td>21.119999</td>\n",
       "      <td>...</td>\n",
       "      <td>-10.460999</td>\n",
       "      <td>-12.705000</td>\n",
       "      <td>-14.717999</td>\n",
       "      <td>-16.532999</td>\n",
       "      <td>-19.403999</td>\n",
       "      <td>-24.650999</td>\n",
       "      <td>-32.241001</td>\n",
       "      <td>-39.303001</td>\n",
       "      <td>-41.876999</td>\n",
       "      <td>1</td>\n",
       "    </tr>\n",
       "    <tr>\n",
       "      <th>1</th>\n",
       "      <td>25.509001</td>\n",
       "      <td>26.499001</td>\n",
       "      <td>27.851999</td>\n",
       "      <td>27.159000</td>\n",
       "      <td>25.971001</td>\n",
       "      <td>26.433001</td>\n",
       "      <td>25.839001</td>\n",
       "      <td>22.473</td>\n",
       "      <td>20.063999</td>\n",
       "      <td>19.569000</td>\n",
       "      <td>...</td>\n",
       "      <td>-13.233000</td>\n",
       "      <td>-18.051001</td>\n",
       "      <td>-22.011000</td>\n",
       "      <td>-21.516001</td>\n",
       "      <td>-19.569000</td>\n",
       "      <td>-20.163000</td>\n",
       "      <td>-22.836000</td>\n",
       "      <td>-24.452999</td>\n",
       "      <td>-23.462999</td>\n",
       "      <td>1</td>\n",
       "    </tr>\n",
       "    <tr>\n",
       "      <th>2</th>\n",
       "      <td>25.773001</td>\n",
       "      <td>25.971001</td>\n",
       "      <td>27.489000</td>\n",
       "      <td>26.796000</td>\n",
       "      <td>24.254999</td>\n",
       "      <td>23.000999</td>\n",
       "      <td>21.978001</td>\n",
       "      <td>19.701</td>\n",
       "      <td>18.975000</td>\n",
       "      <td>19.437000</td>\n",
       "      <td>...</td>\n",
       "      <td>-4.785000</td>\n",
       "      <td>-6.897000</td>\n",
       "      <td>-9.537000</td>\n",
       "      <td>-12.045000</td>\n",
       "      <td>-15.147000</td>\n",
       "      <td>-18.282000</td>\n",
       "      <td>-20.493000</td>\n",
       "      <td>-22.836000</td>\n",
       "      <td>-26.004000</td>\n",
       "      <td>1</td>\n",
       "    </tr>\n",
       "    <tr>\n",
       "      <th>3</th>\n",
       "      <td>-1.716000</td>\n",
       "      <td>10.791000</td>\n",
       "      <td>21.053999</td>\n",
       "      <td>18.249001</td>\n",
       "      <td>10.395000</td>\n",
       "      <td>9.801000</td>\n",
       "      <td>12.540000</td>\n",
       "      <td>12.342</td>\n",
       "      <td>13.464000</td>\n",
       "      <td>16.632000</td>\n",
       "      <td>...</td>\n",
       "      <td>-5.082000</td>\n",
       "      <td>-7.392000</td>\n",
       "      <td>-9.273000</td>\n",
       "      <td>-8.514000</td>\n",
       "      <td>-6.567000</td>\n",
       "      <td>-5.280000</td>\n",
       "      <td>-3.564000</td>\n",
       "      <td>0.858000</td>\n",
       "      <td>7.755000</td>\n",
       "      <td>1</td>\n",
       "    </tr>\n",
       "    <tr>\n",
       "      <th>4</th>\n",
       "      <td>-12.309000</td>\n",
       "      <td>-10.626000</td>\n",
       "      <td>-6.567000</td>\n",
       "      <td>-3.399000</td>\n",
       "      <td>-2.343000</td>\n",
       "      <td>-0.957000</td>\n",
       "      <td>0.231000</td>\n",
       "      <td>1.221</td>\n",
       "      <td>4.554000</td>\n",
       "      <td>7.854000</td>\n",
       "      <td>...</td>\n",
       "      <td>-14.784000</td>\n",
       "      <td>-13.992000</td>\n",
       "      <td>-14.916000</td>\n",
       "      <td>-15.477000</td>\n",
       "      <td>-14.949000</td>\n",
       "      <td>-14.949000</td>\n",
       "      <td>-15.081000</td>\n",
       "      <td>-13.695000</td>\n",
       "      <td>-11.517000</td>\n",
       "      <td>1</td>\n",
       "    </tr>\n",
       "  </tbody>\n",
       "</table>\n",
       "<p>5 rows × 231145 columns</p>\n",
       "</div>"
      ],
      "text/plain": [
       "           0          1          2          3          4          5  \\\n",
       "0  26.598000  24.716999  26.466000  27.323999  26.169001  25.740000   \n",
       "1  25.509001  26.499001  27.851999  27.159000  25.971001  26.433001   \n",
       "2  25.773001  25.971001  27.489000  26.796000  24.254999  23.000999   \n",
       "3  -1.716000  10.791000  21.053999  18.249001  10.395000   9.801000   \n",
       "4 -12.309000 -10.626000  -6.567000  -3.399000  -2.343000  -0.957000   \n",
       "\n",
       "           6       7          8          9  ...     231135     231136  \\\n",
       "0  24.552000  20.031  17.193001  21.119999  ... -10.460999 -12.705000   \n",
       "1  25.839001  22.473  20.063999  19.569000  ... -13.233000 -18.051001   \n",
       "2  21.978001  19.701  18.975000  19.437000  ...  -4.785000  -6.897000   \n",
       "3  12.540000  12.342  13.464000  16.632000  ...  -5.082000  -7.392000   \n",
       "4   0.231000   1.221   4.554000   7.854000  ... -14.784000 -13.992000   \n",
       "\n",
       "      231137     231138     231139     231140     231141     231142  \\\n",
       "0 -14.717999 -16.532999 -19.403999 -24.650999 -32.241001 -39.303001   \n",
       "1 -22.011000 -21.516001 -19.569000 -20.163000 -22.836000 -24.452999   \n",
       "2  -9.537000 -12.045000 -15.147000 -18.282000 -20.493000 -22.836000   \n",
       "3  -9.273000  -8.514000  -6.567000  -5.280000  -3.564000   0.858000   \n",
       "4 -14.916000 -15.477000 -14.949000 -14.949000 -15.081000 -13.695000   \n",
       "\n",
       "      231143  Labels  \n",
       "0 -41.876999       1  \n",
       "1 -23.462999       1  \n",
       "2 -26.004000       1  \n",
       "3   7.755000       1  \n",
       "4 -11.517000       1  \n",
       "\n",
       "[5 rows x 231145 columns]"
      ]
     },
     "execution_count": 11,
     "metadata": {},
     "output_type": "execute_result"
    }
   ],
   "source": [
    "dfNormal.head()"
   ]
  },
  {
   "cell_type": "code",
   "execution_count": 12,
   "id": "a2b93151",
   "metadata": {},
   "outputs": [],
   "source": [
    "for filename2 in glob.glob('./dataset/autism/*.dat'):\n",
    "    with b2k.BCI2kReader(filename2) as test2:\n",
    "        my_states2  = test2.read(-1)\n",
    "        my_signals2 = test2.signals\n",
    "        my_signals2 = my_signals2[:100]"
   ]
  },
  {
   "cell_type": "code",
   "execution_count": 18,
   "id": "b1153d8c",
   "metadata": {},
   "outputs": [],
   "source": [
    "df2 = pd.DataFrame(my_signals2)\n",
    "df2 = pd.DataFrame.transpose(df2)\n",
    "#df2.shape"
   ]
  },
  {
   "cell_type": "code",
   "execution_count": 19,
   "id": "96cab798",
   "metadata": {},
   "outputs": [
    {
     "data": {
      "image/png": "[encoded data removed]",
      "text/plain": [
       "<Figure size 432x288 with 1 Axes>"
      ]
     },
     "metadata": {
      "needs_background": "light"
     },
     "output_type": "display_data"
    }
   ],
   "source": [
    "plt.plot(df2)\n",
    "plt.show()"
   ]
  },
  {
   "cell_type": "code",
   "execution_count": 20,
   "id": "55ff5969",
   "metadata": {},
   "outputs": [
    {
     "ename": "ValueError",
     "evalue": "Length of values (7) does not match length of index (16)",
     "output_type": "error",
     "traceback": [
      "\u001b[1;31m---------------------------------------------------------------------------\u001b[0m",
      "\u001b[1;31mValueError\u001b[0m                                Traceback (most recent call last)",
      "\u001b[1;32m~\\AppData\\Local\\Temp/ipykernel_7416/3582829752.py\u001b[0m in \u001b[0;36m<module>\u001b[1;34m\u001b[0m\n\u001b[0;32m      1\u001b[0m \u001b[0mdf2\u001b[0m \u001b[1;33m=\u001b[0m \u001b[0mpd\u001b[0m\u001b[1;33m.\u001b[0m\u001b[0mDataFrame\u001b[0m\u001b[1;33m(\u001b[0m\u001b[0mmy_signals2\u001b[0m\u001b[1;33m)\u001b[0m\u001b[1;33m\u001b[0m\u001b[1;33m\u001b[0m\u001b[0m\n\u001b[0;32m      2\u001b[0m \u001b[0mlabel2\u001b[0m \u001b[1;33m=\u001b[0m \u001b[1;33m[\u001b[0m\u001b[1;36m0\u001b[0m\u001b[1;33m,\u001b[0m \u001b[1;36m0\u001b[0m\u001b[1;33m,\u001b[0m \u001b[1;36m0\u001b[0m\u001b[1;33m,\u001b[0m \u001b[1;36m0\u001b[0m\u001b[1;33m,\u001b[0m \u001b[1;36m0\u001b[0m\u001b[1;33m,\u001b[0m \u001b[1;36m0\u001b[0m\u001b[1;33m,\u001b[0m \u001b[1;36m0\u001b[0m\u001b[1;33m]\u001b[0m\u001b[1;33m\u001b[0m\u001b[1;33m\u001b[0m\u001b[0m\n\u001b[1;32m----> 3\u001b[1;33m \u001b[0mdfAutism\u001b[0m \u001b[1;33m=\u001b[0m \u001b[0mdf2\u001b[0m\u001b[1;33m.\u001b[0m\u001b[0massign\u001b[0m\u001b[1;33m(\u001b[0m\u001b[0mLabels\u001b[0m\u001b[1;33m=\u001b[0m\u001b[0mlabel2\u001b[0m\u001b[1;33m)\u001b[0m\u001b[1;33m\u001b[0m\u001b[1;33m\u001b[0m\u001b[0m\n\u001b[0m",
      "\u001b[1;32m~\\anaconda3\\lib\\site-packages\\pandas\\core\\frame.py\u001b[0m in \u001b[0;36massign\u001b[1;34m(self, **kwargs)\u001b[0m\n\u001b[0;32m   4484\u001b[0m \u001b[1;33m\u001b[0m\u001b[0m\n\u001b[0;32m   4485\u001b[0m         \u001b[1;32mfor\u001b[0m \u001b[0mk\u001b[0m\u001b[1;33m,\u001b[0m \u001b[0mv\u001b[0m \u001b[1;32min\u001b[0m \u001b[0mkwargs\u001b[0m\u001b[1;33m.\u001b[0m\u001b[0mitems\u001b[0m\u001b[1;33m(\u001b[0m\u001b[1;33m)\u001b[0m\u001b[1;33m:\u001b[0m\u001b[1;33m\u001b[0m\u001b[1;33m\u001b[0m\u001b[0m\n\u001b[1;32m-> 4486\u001b[1;33m             \u001b[0mdata\u001b[0m\u001b[1;33m[\u001b[0m\u001b[0mk\u001b[0m\u001b[1;33m]\u001b[0m \u001b[1;33m=\u001b[0m \u001b[0mcom\u001b[0m\u001b[1;33m.\u001b[0m\u001b[0mapply_if_callable\u001b[0m\u001b[1;33m(\u001b[0m\u001b[0mv\u001b[0m\u001b[1;33m,\u001b[0m \u001b[0mdata\u001b[0m\u001b[1;33m)\u001b[0m\u001b[1;33m\u001b[0m\u001b[1;33m\u001b[0m\u001b[0m\n\u001b[0m\u001b[0;32m   4487\u001b[0m         \u001b[1;32mreturn\u001b[0m \u001b[0mdata\u001b[0m\u001b[1;33m\u001b[0m\u001b[1;33m\u001b[0m\u001b[0m\n\u001b[0;32m   4488\u001b[0m \u001b[1;33m\u001b[0m\u001b[0m\n",
      "\u001b[1;32m~\\anaconda3\\lib\\site-packages\\pandas\\core\\frame.py\u001b[0m in \u001b[0;36m__setitem__\u001b[1;34m(self, key, value)\u001b[0m\n\u001b[0;32m   3610\u001b[0m         \u001b[1;32melse\u001b[0m\u001b[1;33m:\u001b[0m\u001b[1;33m\u001b[0m\u001b[1;33m\u001b[0m\u001b[0m\n\u001b[0;32m   3611\u001b[0m             \u001b[1;31m# set column\u001b[0m\u001b[1;33m\u001b[0m\u001b[1;33m\u001b[0m\u001b[0m\n\u001b[1;32m-> 3612\u001b[1;33m             \u001b[0mself\u001b[0m\u001b[1;33m.\u001b[0m\u001b[0m_set_item\u001b[0m\u001b[1;33m(\u001b[0m\u001b[0mkey\u001b[0m\u001b[1;33m,\u001b[0m \u001b[0mvalue\u001b[0m\u001b[1;33m)\u001b[0m\u001b[1;33m\u001b[0m\u001b[1;33m\u001b[0m\u001b[0m\n\u001b[0m\u001b[0;32m   3613\u001b[0m \u001b[1;33m\u001b[0m\u001b[0m\n\u001b[0;32m   3614\u001b[0m     \u001b[1;32mdef\u001b[0m \u001b[0m_setitem_slice\u001b[0m\u001b[1;33m(\u001b[0m\u001b[0mself\u001b[0m\u001b[1;33m,\u001b[0m \u001b[0mkey\u001b[0m\u001b[1;33m:\u001b[0m \u001b[0mslice\u001b[0m\u001b[1;33m,\u001b[0m \u001b[0mvalue\u001b[0m\u001b[1;33m)\u001b[0m\u001b[1;33m:\u001b[0m\u001b[1;33m\u001b[0m\u001b[1;33m\u001b[0m\u001b[0m\n",
      "\u001b[1;32m~\\anaconda3\\lib\\site-packages\\pandas\\core\\frame.py\u001b[0m in \u001b[0;36m_set_item\u001b[1;34m(self, key, value)\u001b[0m\n\u001b[0;32m   3782\u001b[0m         \u001b[0mensure\u001b[0m \u001b[0mhomogeneity\u001b[0m\u001b[1;33m.\u001b[0m\u001b[1;33m\u001b[0m\u001b[1;33m\u001b[0m\u001b[0m\n\u001b[0;32m   3783\u001b[0m         \"\"\"\n\u001b[1;32m-> 3784\u001b[1;33m         \u001b[0mvalue\u001b[0m \u001b[1;33m=\u001b[0m \u001b[0mself\u001b[0m\u001b[1;33m.\u001b[0m\u001b[0m_sanitize_column\u001b[0m\u001b[1;33m(\u001b[0m\u001b[0mvalue\u001b[0m\u001b[1;33m)\u001b[0m\u001b[1;33m\u001b[0m\u001b[1;33m\u001b[0m\u001b[0m\n\u001b[0m\u001b[0;32m   3785\u001b[0m \u001b[1;33m\u001b[0m\u001b[0m\n\u001b[0;32m   3786\u001b[0m         if (\n",
      "\u001b[1;32m~\\anaconda3\\lib\\site-packages\\pandas\\core\\frame.py\u001b[0m in \u001b[0;36m_sanitize_column\u001b[1;34m(self, value)\u001b[0m\n\u001b[0;32m   4507\u001b[0m \u001b[1;33m\u001b[0m\u001b[0m\n\u001b[0;32m   4508\u001b[0m         \u001b[1;32mif\u001b[0m \u001b[0mis_list_like\u001b[0m\u001b[1;33m(\u001b[0m\u001b[0mvalue\u001b[0m\u001b[1;33m)\u001b[0m\u001b[1;33m:\u001b[0m\u001b[1;33m\u001b[0m\u001b[1;33m\u001b[0m\u001b[0m\n\u001b[1;32m-> 4509\u001b[1;33m             \u001b[0mcom\u001b[0m\u001b[1;33m.\u001b[0m\u001b[0mrequire_length_match\u001b[0m\u001b[1;33m(\u001b[0m\u001b[0mvalue\u001b[0m\u001b[1;33m,\u001b[0m \u001b[0mself\u001b[0m\u001b[1;33m.\u001b[0m\u001b[0mindex\u001b[0m\u001b[1;33m)\u001b[0m\u001b[1;33m\u001b[0m\u001b[1;33m\u001b[0m\u001b[0m\n\u001b[0m\u001b[0;32m   4510\u001b[0m         \u001b[1;32mreturn\u001b[0m \u001b[0msanitize_array\u001b[0m\u001b[1;33m(\u001b[0m\u001b[0mvalue\u001b[0m\u001b[1;33m,\u001b[0m \u001b[0mself\u001b[0m\u001b[1;33m.\u001b[0m\u001b[0mindex\u001b[0m\u001b[1;33m,\u001b[0m \u001b[0mcopy\u001b[0m\u001b[1;33m=\u001b[0m\u001b[1;32mTrue\u001b[0m\u001b[1;33m,\u001b[0m \u001b[0mallow_2d\u001b[0m\u001b[1;33m=\u001b[0m\u001b[1;32mTrue\u001b[0m\u001b[1;33m)\u001b[0m\u001b[1;33m\u001b[0m\u001b[1;33m\u001b[0m\u001b[0m\n\u001b[0;32m   4511\u001b[0m \u001b[1;33m\u001b[0m\u001b[0m\n",
      "\u001b[1;32m~\\anaconda3\\lib\\site-packages\\pandas\\core\\common.py\u001b[0m in \u001b[0;36mrequire_length_match\u001b[1;34m(data, index)\u001b[0m\n\u001b[0;32m    529\u001b[0m     \"\"\"\n\u001b[0;32m    530\u001b[0m     \u001b[1;32mif\u001b[0m \u001b[0mlen\u001b[0m\u001b[1;33m(\u001b[0m\u001b[0mdata\u001b[0m\u001b[1;33m)\u001b[0m \u001b[1;33m!=\u001b[0m \u001b[0mlen\u001b[0m\u001b[1;33m(\u001b[0m\u001b[0mindex\u001b[0m\u001b[1;33m)\u001b[0m\u001b[1;33m:\u001b[0m\u001b[1;33m\u001b[0m\u001b[1;33m\u001b[0m\u001b[0m\n\u001b[1;32m--> 531\u001b[1;33m         raise ValueError(\n\u001b[0m\u001b[0;32m    532\u001b[0m             \u001b[1;34m\"Length of values \"\u001b[0m\u001b[1;33m\u001b[0m\u001b[1;33m\u001b[0m\u001b[0m\n\u001b[0;32m    533\u001b[0m             \u001b[1;34mf\"({len(data)}) \"\u001b[0m\u001b[1;33m\u001b[0m\u001b[1;33m\u001b[0m\u001b[0m\n",
      "\u001b[1;31mValueError\u001b[0m: Length of values (7) does not match length of index (16)"
     ]
    }
   ],
   "source": [
    "df2 = pd.DataFrame(my_signals2)\n",
    "label2 = [0, 0, 0, 0, 0, 0, 0]\n",
    "dfAutism = df2.assign(Labels=label2)"
   ]
  },
  {
   "cell_type": "code",
   "execution_count": null,
   "id": "67890d66",
   "metadata": {},
   "outputs": [],
   "source": [
    "dfAutism.head()"
   ]
  },
  {
   "cell_type": "code",
   "execution_count": null,
   "id": "3bfeefc0",
   "metadata": {},
   "outputs": [],
   "source": [
    "dataset = pd.merge(dfAutism, dfNormal)"
   ]
  },
  {
   "cell_type": "code",
   "execution_count": null,
   "id": "e234d74a",
   "metadata": {},
   "outputs": [],
   "source": [
    "dataset.head()"
   ]
  }
 ],
 "metadata": {
  "kernelspec": {
   "display_name": "Python 3 (ipykernel)",
   "language": "python",
   "name": "python3"
  },
  "language_info": {
   "codemirror_mode": {
    "name": "ipython",
    "version": 3
   },
   "file_extension": ".py",
   "mimetype": "text/x-python",
   "name": "python",
   "nbconvert_exporter": "python",
   "pygments_lexer": "ipython3",
   "version": "3.9.7"
  }
 },
 "nbformat": 4,
 "nbformat_minor": 5
}
