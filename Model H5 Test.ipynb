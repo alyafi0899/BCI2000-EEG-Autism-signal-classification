{
 "cells": [
  {
   "cell_type": "code",
   "execution_count": 21,
   "id": "a0807738",
   "metadata": {},
   "outputs": [],
   "source": [
    "from keras.models import load_model\n",
    "import numpy as np\n",
    "import tensorflow as tf\n",
    "import matplotlib.pyplot as plt\n",
    "from BCI2kReader import BCI2kReader as b2k\n",
    "import pandas as pd\n",
    "import glob\n",
    "import os"
   ]
  },
  {
   "cell_type": "markdown",
   "id": "33c28567",
   "metadata": {},
   "source": [
    "# Function for PREPROCESSING DATA"
   ]
  },
  {
   "cell_type": "code",
   "execution_count": 22,
   "id": "ab50f90f",
   "metadata": {},
   "outputs": [],
   "source": [
    "def data_extraction_pred(raw):\n",
    "    combine_dataframe = []\n",
    "    for i in range(16):\n",
    "        mean = raw.values[i].mean() #mean setiap channel (channel = index array)\n",
    "        combine_dataframe.append(float(mean))\n",
    "\n",
    "        std = raw.values[i].std()\n",
    "        combine_dataframe.append(float(std))\n",
    "\n",
    "        snr = signaltonoise(raw.values[i])\n",
    "        combine_dataframe.append(float(snr))\n",
    "    \n",
    "    final_dataframe = pd.DataFrame(combine_dataframe, index = ['FP1_mean', 'FP1_std', 'FP1_snr', 'F3_mean', 'F3_std', 'F3_snr', 'F7_mean', 'F7_std', 'F7_snr', 'T3_mean', 'T3_std', 'T3_snr','T5_mean', 'T5_std', 'T5_snr','O1_mean', 'O1_std', 'O1_snr','C4_mean', 'C4_std', 'C4_snr','FP2_mean', 'FP2_std', 'FP2_snr','Fz_mean', 'Fz_std', 'Fz_snr','F4_mean', 'F4_std', 'F4_snr','F8_mean', 'F8_std', 'F8_snr','C3_mean', 'C3_std', 'C3_snr','Cz_mean', 'Cz_std', 'Cz_snr','Pz_mean', 'Pz_std', 'Pz_snr','Oz_mean', 'Oz_std', 'Oz_snr','O2_mean', 'O2_std', 'O2_snr'])\n",
    "    final_dataframe = pd.DataFrame(combine_dataframe)\n",
    "    final_dataframe = pd.DataFrame.transpose(final_dataframe)\n",
    "    final_dataframe.reset_index()\n",
    "    return final_dataframe"
   ]
  },
  {
   "cell_type": "code",
   "execution_count": 23,
   "id": "0ae11672",
   "metadata": {},
   "outputs": [],
   "source": [
    "def signaltonoise(a, axis=0, ddof=0):\n",
    "    a = np.asanyarray(a)\n",
    "    m = a.mean(axis)\n",
    "    sd = a.std(axis=axis, ddof=ddof)\n",
    "    return np.where(sd == 0, 0, m/sd)"
   ]
  },
  {
   "cell_type": "markdown",
   "id": "9e4ef7b3",
   "metadata": {},
   "source": [
    "# LOAD MODEL"
   ]
  },
  {
   "cell_type": "code",
   "execution_count": 24,
   "id": "e4f402ff",
   "metadata": {},
   "outputs": [],
   "source": [
    "model = load_model('trained_model.h5')"
   ]
  },
  {
   "cell_type": "markdown",
   "id": "09d48cdd",
   "metadata": {},
   "source": [
    "# LOAD DATA AND PREDICTION"
   ]
  },
  {
   "cell_type": "markdown",
   "id": "9b8a80ae",
   "metadata": {},
   "source": [
    "# Autism prediction"
   ]
  },
  {
   "cell_type": "code",
   "execution_count": 25,
   "id": "b10a71df",
   "metadata": {},
   "outputs": [
    {
     "name": "stdout",
     "output_type": "stream",
     "text": [
      "1/1 [==============================] - 0s 62ms/step\n",
      "[0.52108204]\n",
      "its Autism\n"
     ]
    }
   ],
   "source": [
    "filename3 = \"./dataset - Copy/autism/Bader_Autism_24_11_2011S001R01.dat\"\n",
    "with b2k.BCI2kReader(filename3) as test3:\n",
    "        my_states = test3.read(-1)\n",
    "        my_signals3, stateslice3 = test3[100:500]\n",
    "        \n",
    "plot_autism_eeg = pd.DataFrame(my_signals3)\n",
    "plot_autism_eeg = pd.DataFrame.transpose(plot_autism_eeg)\n",
    "\n",
    "classes = model.predict(data_extraction_pred(plot_autism_eeg), batch_size=500)\n",
    "print(classes[0])\n",
    "if classes[0] > 0.52:\n",
    "    print(\"its Autism\")\n",
    "else:\n",
    "    print(\"its Normal\")"
   ]
  },
  {
   "cell_type": "markdown",
   "id": "c9fe4f5b",
   "metadata": {},
   "source": [
    "# normal prediction"
   ]
  },
  {
   "cell_type": "code",
   "execution_count": 26,
   "id": "e50fddfa",
   "metadata": {},
   "outputs": [
    {
     "name": "stdout",
     "output_type": "stream",
     "text": [
      "1/1 [==============================] - 0s 31ms/step\n",
      "[0.5089515]\n",
      "its Normal\n"
     ]
    }
   ],
   "source": [
    "filename3 = \"./dataset - Copy/normal/Amer_Normal_5_5_2011S001R03.dat\"\n",
    "with b2k.BCI2kReader(filename3) as test3:\n",
    "        my_states = test3.read(-1)\n",
    "        my_signals3, stateslice3 = test3[100:500]\n",
    "        plot_normal_eeg = pd.DataFrame(my_signals3)\n",
    "        plot_normal_eeg = pd.DataFrame.transpose(plot_normal_eeg)\n",
    "\n",
    "classes = model.predict(data_extraction_pred(plot_normal_eeg), batch_size=500)\n",
    "print(classes[0])\n",
    "if classes[0] > 0.52:\n",
    "    print(\"its Autism\")\n",
    "else:\n",
    "    print(\"its Normal\")"
   ]
  },
  {
   "cell_type": "markdown",
   "id": "0c6aa37a",
   "metadata": {},
   "source": [
    "# test with all autism dataset :"
   ]
  },
  {
   "cell_type": "code",
   "execution_count": 30,
   "id": "c7bffa2a",
   "metadata": {},
   "outputs": [
    {
     "name": "stdout",
     "output_type": "stream",
     "text": [
      "1/1 [==============================] - 0s 20ms/step\n",
      "[0.52108204]\n",
      "its Autism\n",
      "1/1 [==============================] - 0s 21ms/step\n",
      "[0.5200942]\n",
      "its Autism\n",
      "1/1 [==============================] - 0s 19ms/step\n",
      "[0.50291234]\n",
      "its Normal\n",
      "1/1 [==============================] - 0s 16ms/step\n",
      "[0.51908845]\n",
      "its Autism\n",
      "1/1 [==============================] - 0s 16ms/step\n",
      "[0.52115864]\n",
      "its Autism\n",
      "1/1 [==============================] - 0s 16ms/step\n",
      "[0.5194866]\n",
      "its Autism\n",
      "1/1 [==============================] - 0s 18ms/step\n",
      "[0.5101514]\n",
      "its Normal\n",
      "1/1 [==============================] - 0s 16ms/step\n",
      "[0.5055454]\n",
      "its Normal\n",
      "1/1 [==============================] - 0s 16ms/step\n",
      "[0.5210891]\n",
      "its Autism\n",
      "1/1 [==============================] - 0s 31ms/step\n",
      "[0.5055403]\n",
      "its Normal\n",
      "1/1 [==============================] - 0s 16ms/step\n",
      "[0.5201074]\n",
      "its Autism\n"
     ]
    }
   ],
   "source": [
    "df_normal = pd.DataFrame([], )\n",
    "for filename in glob.glob('./dataset - Copy/autism/*.dat'):\n",
    "    with b2k.BCI2kReader(filename) as test:\n",
    "        my_states = test.read(-1)\n",
    "        my_signals, stateslice = test[100:1100]\n",
    "        raw = pd.DataFrame(my_signals)\n",
    "        raw = pd.DataFrame.transpose(raw)\n",
    "        classes = model.predict(data_extraction_pred(raw), batch_size=500)\n",
    "        print(classes[0])\n",
    "        if classes[0] > 0.5156:\n",
    "            print(\"its Autism\")\n",
    "        else:\n",
    "            print(\"its Normal\")"
   ]
  },
  {
   "cell_type": "markdown",
   "id": "9cb13511",
   "metadata": {},
   "source": [
    "# test with all Normal dataset :"
   ]
  },
  {
   "cell_type": "code",
   "execution_count": 31,
   "id": "2c794c25",
   "metadata": {},
   "outputs": [
    {
     "name": "stdout",
     "output_type": "stream",
     "text": [
      "1/1 [==============================] - 0s 21ms/step\n",
      "[0.5082692]\n",
      "its Normal\n",
      "1/1 [==============================] - 0s 16ms/step\n",
      "[0.5089515]\n",
      "its Normal\n",
      "1/1 [==============================] - 0s 31ms/step\n",
      "[0.5032524]\n",
      "its Normal\n",
      "1/1 [==============================] - 0s 16ms/step\n",
      "[0.5046828]\n",
      "its Normal\n",
      "1/1 [==============================] - 0s 16ms/step\n",
      "[0.5150379]\n",
      "its Normal\n"
     ]
    }
   ],
   "source": [
    "df_normal = pd.DataFrame([], )\n",
    "for filename in glob.glob('./dataset - Copy/normal/*.dat'):\n",
    "    with b2k.BCI2kReader(filename) as test:\n",
    "        my_states = test.read(-1)\n",
    "        my_signals, stateslice = test[100:1100]\n",
    "        raw = pd.DataFrame(my_signals)\n",
    "        raw = pd.DataFrame.transpose(raw)\n",
    "        classes = model.predict(data_extraction_pred(raw), batch_size=500)\n",
    "        print(classes[0])\n",
    "        if classes[0] > 0.5156:\n",
    "            print(\"its Autism\")\n",
    "        else:\n",
    "            print(\"its Normal\")"
   ]
  }
 ],
 "metadata": {
  "kernelspec": {
   "display_name": "Python 3 (ipykernel)",
   "language": "python",
   "name": "python3"
  },
  "language_info": {
   "codemirror_mode": {
    "name": "ipython",
    "version": 3
   },
   "file_extension": ".py",
   "mimetype": "text/x-python",
   "name": "python",
   "nbconvert_exporter": "python",
   "pygments_lexer": "ipython3",
   "version": "3.9.7"
  }
 },
 "nbformat": 4,
 "nbformat_minor": 5
}
