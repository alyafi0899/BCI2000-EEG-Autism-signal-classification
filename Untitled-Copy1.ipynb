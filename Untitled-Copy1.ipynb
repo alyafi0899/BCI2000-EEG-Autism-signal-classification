{
 "cells": [
  {
   "cell_type": "code",
   "execution_count": 1,
   "id": "c1b60584",
   "metadata": {},
   "outputs": [
    {
     "name": "stdout",
     "output_type": "stream",
     "text": [
      "WARNING:tensorflow:Please fix your imports. Module tensorflow.python.training.tracking.base has been moved to tensorflow.python.trackable.base. The old module will be deleted in version 2.11.\n",
      "WARNING:tensorflow:Please fix your imports. Module tensorflow.python.training.tracking.resource has been moved to tensorflow.python.trackable.resource. The old module will be deleted in version 2.11.\n",
      "WARNING:tensorflow:Please fix your imports. Module tensorflow.python.training.tracking.graph_view has been moved to tensorflow.python.checkpoint.graph_view. The old module will be deleted in version 2.11.\n",
      "WARNING:tensorflow:Please fix your imports. Module tensorflow.python.training.saving.functional_saver has been moved to tensorflow.python.checkpoint.functional_saver. The old module will be deleted in version 2.11.\n",
      "WARNING:tensorflow:Please fix your imports. Module tensorflow.python.training.saving.checkpoint_options has been moved to tensorflow.python.checkpoint.checkpoint_options. The old module will be deleted in version 2.11.\n"
     ]
    }
   ],
   "source": [
    "from BCI2kReader import BCI2kReader as b2k\n",
    "import numpy as np\n",
    "from PIL import Image as im\n",
    "import glob\n",
    "import os\n",
    "import matplotlib as plt\n",
    "import keras\n",
    "from keras.layers import Dense,Conv2D,MaxPool2D,Dropout,Flatten\n",
    "from keras.models import Sequential\n",
    "from keras.preprocessing import image\n",
    "import tensorflow as tf\n",
    "from tensorflow.keras.callbacks import EarlyStopping # Early Stopping\n",
    "from sklearn.utils.class_weight import compute_class_weight\n",
    "from tensorflow.keras.utils import img_to_array\n",
    "from tensorflow.keras.optimizers import RMSprop\n",
    "from tensorflow.keras.preprocessing.image import ImageDataGenerator\n",
    "import matplotlib.pyplot as plt \n",
    "import numpy as np\n",
    "import tensorflow as tf"
   ]
  },
  {
   "cell_type": "code",
   "execution_count": 2,
   "id": "59b1dfc3",
   "metadata": {},
   "outputs": [],
   "source": [
    "base_dir = \"./image_dataset\"\n",
    "\n",
    "train_dir = os.path.join(base_dir, 'train')\n",
    "validation_dir = os.path.join(base_dir, 'test')\n",
    "\n",
    "# Directory with our training pictures\n",
    "train_normal_dir = os.path.join(train_dir, 'normal')\n",
    "train_covid_dir = os.path.join(train_dir, 'asd')\n",
    "\n",
    "# Directory with our validation pictures\n",
    "validation_normal_dir = os.path.join(validation_dir, 'normal')\n",
    "validation_covid_dir = os.path.join(validation_dir, 'asd')"
   ]
  },
  {
   "cell_type": "code",
   "execution_count": 3,
   "id": "6361496a",
   "metadata": {},
   "outputs": [
    {
     "name": "stdout",
     "output_type": "stream",
     "text": [
      "['NORMAL1 - Copy (10) - Copy - Copy - Copy.png', 'NORMAL1 - Copy (10) - Copy - Copy.png', 'NORMAL1 - Copy (10) - Copy.png', 'NORMAL1 - Copy (11) - Copy - Copy - Copy.png', 'NORMAL1 - Copy (11) - Copy - Copy.png', 'NORMAL1 - Copy (11) - Copy.png', 'NORMAL1 - Copy (12) - Copy - Copy - Copy.png', 'NORMAL1 - Copy (12) - Copy - Copy.png', 'NORMAL1 - Copy (12) - Copy.png', 'NORMAL1 - Copy (13) - Copy - Copy - Copy.png']\n",
      "['AUTISM1 - Copy (10) - Copy - Copy - Copy.png', 'AUTISM1 - Copy (10) - Copy - Copy.png', 'AUTISM1 - Copy (10) - Copy.png', 'AUTISM1 - Copy (11) - Copy - Copy.png', 'AUTISM1 - Copy (11) - Copy.png', 'AUTISM1 - Copy (12) - Copy - Copy.png', 'AUTISM1 - Copy (12) - Copy.png', 'AUTISM1 - Copy (13) - Copy - Copy.png', 'AUTISM1 - Copy (13) - Copy.png', 'AUTISM1 - Copy (14) - Copy - Copy.png']\n"
     ]
    }
   ],
   "source": [
    "train_normal_fnames = os.listdir( train_normal_dir )\n",
    "train_covid_fnames = os.listdir( train_covid_dir )\n",
    "\n",
    "print(train_normal_fnames[:10])\n",
    "print(train_covid_fnames[:10])"
   ]
  },
  {
   "cell_type": "code",
   "execution_count": 4,
   "id": "ae6ecb6e",
   "metadata": {},
   "outputs": [
    {
     "name": "stdout",
     "output_type": "stream",
     "text": [
      "total training Normal images : 640\n",
      "total training Covid images : 1056\n",
      "total validation Normal images : 6\n",
      "total validation Covid images : 22\n"
     ]
    }
   ],
   "source": [
    "print('total training Normal images :', len(os.listdir( train_normal_dir ) ))\n",
    "print('total training Covid images :', len(os.listdir( train_covid_dir ) ))\n",
    "\n",
    "print('total validation Normal images :', len(os.listdir( validation_normal_dir ) ))\n",
    "print('total validation Covid images :', len(os.listdir( validation_covid_dir ) ))"
   ]
  },
  {
   "cell_type": "code",
   "execution_count": 5,
   "id": "002b26a3",
   "metadata": {},
   "outputs": [],
   "source": [
    "model = tf.keras.models.Sequential([\n",
    "    # Note the input shape is the desired size of the image 150x150 with 3 bytes color\n",
    "    tf.keras.layers.Conv2D(32,(3,3),activation='relu',input_shape=(64,300,3)),\n",
    "\n",
    "    \n",
    "    tf.keras.layers.Conv2D(32,(3,3),activation='relu',input_shape=(64,300,3)),\n",
    "    tf.keras.layers.MaxPooling2D(),\n",
    "    tf.keras.layers.Dropout(rate=0.25),\n",
    "    \n",
    "    tf.keras.layers.Conv2D(32,(3,3),activation='relu',input_shape=(64,300,3)),\n",
    "    tf.keras.layers.MaxPooling2D(),\n",
    "    tf.keras.layers.Dropout(rate=0.25),\n",
    "    \n",
    "    tf.keras.layers.Conv2D(32,(3,3),activation='relu',input_shape=(64,300,3)),\n",
    "    tf.keras.layers.MaxPooling2D(),\n",
    "    tf.keras.layers.Dropout(rate=0.25),\n",
    "    \n",
    "    # Flatten the results to feed into a DNN\n",
    "    tf.keras.layers.Flatten(), \n",
    "    # 512 neuron hidden layer\n",
    "    tf.keras.layers.Dense(64, activation='relu'),\n",
    "    tf.keras.layers.Dropout(rate=0.50),\n",
    "    # Only 1 output neuron. It will contain a value from 0-1 where 0 for 1 class ('cats') and 1 for the other ('dogs')\n",
    "    tf.keras.layers.Dense(1, activation='sigmoid')  \n",
    "])"
   ]
  },
  {
   "cell_type": "code",
   "execution_count": 6,
   "id": "8026087a",
   "metadata": {},
   "outputs": [
    {
     "name": "stdout",
     "output_type": "stream",
     "text": [
      "Model: \"sequential\"\n",
      "_________________________________________________________________\n",
      " Layer (type)                Output Shape              Param #   \n",
      "=================================================================\n",
      " conv2d (Conv2D)             (None, 62, 298, 32)       896       \n",
      "                                                                 \n",
      " conv2d_1 (Conv2D)           (None, 60, 296, 32)       9248      \n",
      "                                                                 \n",
      " max_pooling2d (MaxPooling2D  (None, 30, 148, 32)      0         \n",
      " )                                                               \n",
      "                                                                 \n",
      " dropout (Dropout)           (None, 30, 148, 32)       0         \n",
      "                                                                 \n",
      " conv2d_2 (Conv2D)           (None, 28, 146, 32)       9248      \n",
      "                                                                 \n",
      " max_pooling2d_1 (MaxPooling  (None, 14, 73, 32)       0         \n",
      " 2D)                                                             \n",
      "                                                                 \n",
      " dropout_1 (Dropout)         (None, 14, 73, 32)        0         \n",
      "                                                                 \n",
      " conv2d_3 (Conv2D)           (None, 12, 71, 32)        9248      \n",
      "                                                                 \n",
      " max_pooling2d_2 (MaxPooling  (None, 6, 35, 32)        0         \n",
      " 2D)                                                             \n",
      "                                                                 \n",
      " dropout_2 (Dropout)         (None, 6, 35, 32)         0         \n",
      "                                                                 \n",
      " flatten (Flatten)           (None, 6720)              0         \n",
      "                                                                 \n",
      " dense (Dense)               (None, 64)                430144    \n",
      "                                                                 \n",
      " dropout_3 (Dropout)         (None, 64)                0         \n",
      "                                                                 \n",
      " dense_1 (Dense)             (None, 1)                 65        \n",
      "                                                                 \n",
      "=================================================================\n",
      "Total params: 458,849\n",
      "Trainable params: 458,849\n",
      "Non-trainable params: 0\n",
      "_________________________________________________________________\n"
     ]
    }
   ],
   "source": [
    "model.summary()"
   ]
  },
  {
   "cell_type": "code",
   "execution_count": 8,
   "id": "979cef57",
   "metadata": {},
   "outputs": [],
   "source": [
    "model.compile(optimizer='adam',\n",
    "              loss='binary_crossentropy',\n",
    "              metrics=[tf.keras.metrics.SpecificityAtSensitivity(\n",
    "    (0.5), num_thresholds=200, class_id=None, name=None, dtype=None\n",
    "), tf.keras.metrics.Precision(\n",
    "    thresholds=None, top_k=None, class_id=None, name=None, dtype=None\n",
    "), 'accuracy'])"
   ]
  },
  {
   "cell_type": "code",
   "execution_count": 9,
   "id": "be57ff94",
   "metadata": {},
   "outputs": [
    {
     "name": "stdout",
     "output_type": "stream",
     "text": [
      "Found 1696 images belonging to 2 classes.\n",
      "Found 28 images belonging to 2 classes.\n"
     ]
    }
   ],
   "source": [
    "# Apply data augmentation\n",
    "train_datagen = ImageDataGenerator(\n",
    "      rescale=1./255,\n",
    "      shear_range=0.2,\n",
    "      zoom_range=0.2,)\n",
    "\n",
    "validation_datagen = ImageDataGenerator(rescale=1./255,\n",
    "      shear_range=0.2,\n",
    "      zoom_range=0.2)\n",
    "\n",
    "# Flow training images in batches of 128 using train_datagen generator\n",
    "train_generator = train_datagen.flow_from_directory(\n",
    "        train_dir,  # This is the source directory for training images\n",
    "        target_size=(64, 300),  # All images will be resized to 150x150\n",
    "        batch_size=64,\n",
    "        # Since we use binary_crossentropy loss, we need binary labels\n",
    "        class_mode='binary')\n",
    "\n",
    "# Flow training images in batches of 128 using train_datagen generator\n",
    "validation_generator = validation_datagen.flow_from_directory(\n",
    "        validation_dir,  # This is the source directory for training images\n",
    "        target_size=(64, 300),  # All images will be resized to 150x150\n",
    "        batch_size=64,\n",
    "        # Since we use binary_crossentropy loss, we need binary labels\n",
    "        class_mode='binary')"
   ]
  },
  {
   "cell_type": "code",
   "execution_count": 23,
   "id": "9f3cc19e",
   "metadata": {},
   "outputs": [
    {
     "name": "stdout",
     "output_type": "stream",
     "text": [
      "Epoch 1/50\n",
      "1/1 [==============================] - 3s 3s/step - loss: 0.0318 - specificity_at_sensitivity: 1.0000 - precision: 1.0000 - accuracy: 1.0000 - val_loss: 0.1208 - val_specificity_at_sensitivity: 1.0000 - val_precision: 1.0000 - val_accuracy: 0.9286\n",
      "Epoch 2/50\n",
      "1/1 [==============================] - 6s 6s/step - loss: 0.0420 - specificity_at_sensitivity: 1.0000 - precision: 0.9600 - accuracy: 0.9688 - val_loss: 0.1053 - val_specificity_at_sensitivity: 1.0000 - val_precision: 1.0000 - val_accuracy: 0.9286\n",
      "Epoch 3/50\n",
      "1/1 [==============================] - 2s 2s/step - loss: 0.0493 - specificity_at_sensitivity: 1.0000 - precision: 1.0000 - accuracy: 1.0000 - val_loss: 0.0775 - val_specificity_at_sensitivity: 1.0000 - val_precision: 1.0000 - val_accuracy: 0.9643\n",
      "Epoch 4/50\n",
      "1/1 [==============================] - 6s 6s/step - loss: 0.0288 - specificity_at_sensitivity: 1.0000 - precision: 1.0000 - accuracy: 1.0000 - val_loss: 0.1329 - val_specificity_at_sensitivity: 1.0000 - val_precision: 1.0000 - val_accuracy: 0.9286\n",
      "Epoch 5/50\n",
      "1/1 [==============================] - 2s 2s/step - loss: 0.0184 - specificity_at_sensitivity: 1.0000 - precision: 1.0000 - accuracy: 1.0000 - val_loss: 0.0397 - val_specificity_at_sensitivity: 1.0000 - val_precision: 1.0000 - val_accuracy: 1.0000\n",
      "Epoch 6/50\n",
      "1/1 [==============================] - 6s 6s/step - loss: 0.0375 - specificity_at_sensitivity: 1.0000 - precision: 1.0000 - accuracy: 0.9844 - val_loss: 0.0773 - val_specificity_at_sensitivity: 1.0000 - val_precision: 1.0000 - val_accuracy: 0.9643\n",
      "Epoch 7/50\n",
      "1/1 [==============================] - 2s 2s/step - loss: 0.0453 - specificity_at_sensitivity: 1.0000 - precision: 0.9615 - accuracy: 0.9844 - val_loss: 0.0150 - val_specificity_at_sensitivity: 1.0000 - val_precision: 1.0000 - val_accuracy: 1.0000\n",
      "Epoch 8/50\n",
      "1/1 [==============================] - 2s 2s/step - loss: 0.0308 - specificity_at_sensitivity: 1.0000 - precision: 1.0000 - accuracy: 1.0000 - val_loss: 0.0719 - val_specificity_at_sensitivity: 1.0000 - val_precision: 1.0000 - val_accuracy: 0.9643\n",
      "Epoch 9/50\n",
      "1/1 [==============================] - 6s 6s/step - loss: 0.0503 - specificity_at_sensitivity: 1.0000 - precision: 1.0000 - accuracy: 1.0000 - val_loss: 0.0439 - val_specificity_at_sensitivity: 1.0000 - val_precision: 1.0000 - val_accuracy: 1.0000\n",
      "Epoch 10/50\n",
      "1/1 [==============================] - 2s 2s/step - loss: 0.0367 - specificity_at_sensitivity: 1.0000 - precision: 1.0000 - accuracy: 1.0000 - val_loss: 0.1292 - val_specificity_at_sensitivity: 1.0000 - val_precision: 1.0000 - val_accuracy: 0.9286\n",
      "Epoch 11/50\n",
      "1/1 [==============================] - 7s 7s/step - loss: 0.0150 - specificity_at_sensitivity: 1.0000 - precision: 1.0000 - accuracy: 1.0000 - val_loss: 0.0986 - val_specificity_at_sensitivity: 1.0000 - val_precision: 1.0000 - val_accuracy: 0.9286\n",
      "Epoch 12/50\n",
      "1/1 [==============================] - 2s 2s/step - loss: 0.0208 - specificity_at_sensitivity: 1.0000 - precision: 1.0000 - accuracy: 1.0000 - val_loss: 0.0858 - val_specificity_at_sensitivity: 1.0000 - val_precision: 1.0000 - val_accuracy: 0.9643\n",
      "Epoch 13/50\n",
      "1/1 [==============================] - 6s 6s/step - loss: 0.0582 - specificity_at_sensitivity: 1.0000 - precision: 0.9615 - accuracy: 0.9844 - val_loss: 0.0327 - val_specificity_at_sensitivity: 1.0000 - val_precision: 1.0000 - val_accuracy: 1.0000\n",
      "Epoch 14/50\n",
      "1/1 [==============================] - 2s 2s/step - loss: 0.0065 - specificity_at_sensitivity: 1.0000 - precision: 1.0000 - accuracy: 1.0000 - val_loss: 0.0455 - val_specificity_at_sensitivity: 1.0000 - val_precision: 1.0000 - val_accuracy: 0.9643\n",
      "Epoch 15/50\n",
      "1/1 [==============================] - 6s 6s/step - loss: 0.0367 - specificity_at_sensitivity: 1.0000 - precision: 1.0000 - accuracy: 0.9844 - val_loss: 0.1329 - val_specificity_at_sensitivity: 1.0000 - val_precision: 1.0000 - val_accuracy: 0.9643\n",
      "Epoch 16/50\n",
      "1/1 [==============================] - 3s 3s/step - loss: 0.0368 - specificity_at_sensitivity: 1.0000 - precision: 1.0000 - accuracy: 0.9844 - val_loss: 0.0111 - val_specificity_at_sensitivity: 1.0000 - val_precision: 1.0000 - val_accuracy: 1.0000\n",
      "Epoch 17/50\n",
      "1/1 [==============================] - 6s 6s/step - loss: 0.0205 - specificity_at_sensitivity: 1.0000 - precision: 1.0000 - accuracy: 1.0000 - val_loss: 0.0035 - val_specificity_at_sensitivity: 1.0000 - val_precision: 1.0000 - val_accuracy: 1.0000\n",
      "Epoch 18/50\n",
      "1/1 [==============================] - 2s 2s/step - loss: 0.0460 - specificity_at_sensitivity: 1.0000 - precision: 0.9167 - accuracy: 0.9688 - val_loss: 0.0526 - val_specificity_at_sensitivity: 1.0000 - val_precision: 1.0000 - val_accuracy: 0.9643\n",
      "Epoch 19/50\n",
      "1/1 [==============================] - 6s 6s/step - loss: 0.0063 - specificity_at_sensitivity: 1.0000 - precision: 1.0000 - accuracy: 1.0000 - val_loss: 0.0479 - val_specificity_at_sensitivity: 1.0000 - val_precision: 1.0000 - val_accuracy: 1.0000\n",
      "Epoch 20/50\n",
      "1/1 [==============================] - 2s 2s/step - loss: 0.0147 - specificity_at_sensitivity: 1.0000 - precision: 1.0000 - accuracy: 1.0000 - val_loss: 0.0511 - val_specificity_at_sensitivity: 1.0000 - val_precision: 1.0000 - val_accuracy: 0.9643\n",
      "Epoch 21/50\n",
      "1/1 [==============================] - 6s 6s/step - loss: 0.0073 - specificity_at_sensitivity: 1.0000 - precision: 1.0000 - accuracy: 1.0000 - val_loss: 0.1274 - val_specificity_at_sensitivity: 1.0000 - val_precision: 1.0000 - val_accuracy: 0.9643\n",
      "Epoch 22/50\n",
      "1/1 [==============================] - 2s 2s/step - loss: 0.0080 - specificity_at_sensitivity: 1.0000 - precision: 1.0000 - accuracy: 1.0000 - val_loss: 0.1872 - val_specificity_at_sensitivity: 1.0000 - val_precision: 1.0000 - val_accuracy: 0.9286\n",
      "Epoch 23/50\n",
      "1/1 [==============================] - 6s 6s/step - loss: 0.0525 - specificity_at_sensitivity: 1.0000 - precision: 1.0000 - accuracy: 0.9688 - val_loss: 0.1282 - val_specificity_at_sensitivity: 1.0000 - val_precision: 1.0000 - val_accuracy: 0.9643\n",
      "Epoch 24/50\n",
      "1/1 [==============================] - 2s 2s/step - loss: 0.0083 - specificity_at_sensitivity: 1.0000 - precision: 1.0000 - accuracy: 1.0000 - val_loss: 0.0186 - val_specificity_at_sensitivity: 1.0000 - val_precision: 1.0000 - val_accuracy: 1.0000\n",
      "Epoch 25/50\n",
      "1/1 [==============================] - 7s 7s/step - loss: 0.0240 - specificity_at_sensitivity: 1.0000 - precision: 0.9643 - accuracy: 0.9844 - val_loss: 0.0036 - val_specificity_at_sensitivity: 1.0000 - val_precision: 1.0000 - val_accuracy: 1.0000\n",
      "Epoch 26/50\n",
      "1/1 [==============================] - 6s 6s/step - loss: 0.0723 - specificity_at_sensitivity: 1.0000 - precision: 0.9286 - accuracy: 0.9531 - val_loss: 0.0406 - val_specificity_at_sensitivity: 1.0000 - val_precision: 1.0000 - val_accuracy: 0.9643\n",
      "Epoch 27/50\n",
      "1/1 [==============================] - 2s 2s/step - loss: 0.0148 - specificity_at_sensitivity: 1.0000 - precision: 1.0000 - accuracy: 1.0000 - val_loss: 0.0312 - val_specificity_at_sensitivity: 1.0000 - val_precision: 1.0000 - val_accuracy: 1.0000\n",
      "Epoch 28/50\n",
      "1/1 [==============================] - 6s 6s/step - loss: 0.0105 - specificity_at_sensitivity: 1.0000 - precision: 1.0000 - accuracy: 1.0000 - val_loss: 0.1015 - val_specificity_at_sensitivity: 1.0000 - val_precision: 1.0000 - val_accuracy: 0.9286\n",
      "Epoch 29/50\n",
      "1/1 [==============================] - 2s 2s/step - loss: 0.0050 - specificity_at_sensitivity: 1.0000 - precision: 1.0000 - accuracy: 1.0000 - val_loss: 0.1740 - val_specificity_at_sensitivity: 1.0000 - val_precision: 1.0000 - val_accuracy: 0.9286\n",
      "Epoch 30/50\n",
      "1/1 [==============================] - 6s 6s/step - loss: 0.0190 - specificity_at_sensitivity: 1.0000 - precision: 1.0000 - accuracy: 1.0000 - val_loss: 0.0984 - val_specificity_at_sensitivity: 1.0000 - val_precision: 1.0000 - val_accuracy: 0.9643\n",
      "Epoch 31/50\n",
      "1/1 [==============================] - 2s 2s/step - loss: 0.0489 - specificity_at_sensitivity: 1.0000 - precision: 1.0000 - accuracy: 0.9844 - val_loss: 0.0022 - val_specificity_at_sensitivity: 1.0000 - val_precision: 1.0000 - val_accuracy: 1.0000\n",
      "Epoch 32/50\n"
     ]
    },
    {
     "name": "stdout",
     "output_type": "stream",
     "text": [
      "1/1 [==============================] - 6s 6s/step - loss: 0.0229 - specificity_at_sensitivity: 1.0000 - precision: 1.0000 - accuracy: 1.0000 - val_loss: 0.0037 - val_specificity_at_sensitivity: 1.0000 - val_precision: 1.0000 - val_accuracy: 1.0000\n",
      "Epoch 33/50\n",
      "1/1 [==============================] - 7s 7s/step - loss: 0.1122 - specificity_at_sensitivity: 1.0000 - precision: 0.8750 - accuracy: 0.9531 - val_loss: 0.0065 - val_specificity_at_sensitivity: 1.0000 - val_precision: 1.0000 - val_accuracy: 1.0000\n",
      "Epoch 34/50\n",
      "1/1 [==============================] - 3s 3s/step - loss: 0.0349 - specificity_at_sensitivity: 1.0000 - precision: 1.0000 - accuracy: 0.9844 - val_loss: 0.1149 - val_specificity_at_sensitivity: 1.0000 - val_precision: 1.0000 - val_accuracy: 0.9286\n",
      "Epoch 35/50\n",
      "1/1 [==============================] - 7s 7s/step - loss: 0.0431 - specificity_at_sensitivity: 1.0000 - precision: 1.0000 - accuracy: 0.9688 - val_loss: 0.1430 - val_specificity_at_sensitivity: 1.0000 - val_precision: 1.0000 - val_accuracy: 0.9286\n",
      "Epoch 36/50\n",
      "1/1 [==============================] - 2s 2s/step - loss: 0.0091 - specificity_at_sensitivity: 1.0000 - precision: 1.0000 - accuracy: 1.0000 - val_loss: 0.1294 - val_specificity_at_sensitivity: 1.0000 - val_precision: 1.0000 - val_accuracy: 0.9643\n",
      "Epoch 37/50\n",
      "1/1 [==============================] - 6s 6s/step - loss: 0.0044 - specificity_at_sensitivity: 1.0000 - precision: 1.0000 - accuracy: 1.0000 - val_loss: 0.0211 - val_specificity_at_sensitivity: 1.0000 - val_precision: 1.0000 - val_accuracy: 1.0000\n",
      "Epoch 38/50\n",
      "1/1 [==============================] - 2s 2s/step - loss: 0.0035 - specificity_at_sensitivity: 1.0000 - precision: 1.0000 - accuracy: 1.0000 - val_loss: 0.0263 - val_specificity_at_sensitivity: 1.0000 - val_precision: 1.0000 - val_accuracy: 1.0000\n",
      "Epoch 39/50\n",
      "1/1 [==============================] - 6s 6s/step - loss: 0.0047 - specificity_at_sensitivity: 1.0000 - precision: 1.0000 - accuracy: 1.0000 - val_loss: 0.0094 - val_specificity_at_sensitivity: 1.0000 - val_precision: 1.0000 - val_accuracy: 1.0000\n",
      "Epoch 40/50\n",
      "1/1 [==============================] - 3s 3s/step - loss: 0.0137 - specificity_at_sensitivity: 1.0000 - precision: 1.0000 - accuracy: 1.0000 - val_loss: 0.0347 - val_specificity_at_sensitivity: 1.0000 - val_precision: 1.0000 - val_accuracy: 0.9643\n",
      "Epoch 41/50\n",
      "1/1 [==============================] - 6s 6s/step - loss: 0.0527 - specificity_at_sensitivity: 1.0000 - precision: 0.9565 - accuracy: 0.9688 - val_loss: 0.0056 - val_specificity_at_sensitivity: 1.0000 - val_precision: 1.0000 - val_accuracy: 1.0000\n",
      "Epoch 42/50\n",
      "1/1 [==============================] - 6s 6s/step - loss: 0.0298 - specificity_at_sensitivity: 1.0000 - precision: 0.9600 - accuracy: 0.9844 - val_loss: 0.0018 - val_specificity_at_sensitivity: 1.0000 - val_precision: 1.0000 - val_accuracy: 1.0000\n",
      "Epoch 43/50\n",
      "1/1 [==============================] - 2s 2s/step - loss: 0.0244 - specificity_at_sensitivity: 1.0000 - precision: 0.9600 - accuracy: 0.9844 - val_loss: 0.0242 - val_specificity_at_sensitivity: 1.0000 - val_precision: 1.0000 - val_accuracy: 1.0000\n",
      "Epoch 44/50\n",
      "1/1 [==============================] - 7s 7s/step - loss: 0.0119 - specificity_at_sensitivity: 1.0000 - precision: 1.0000 - accuracy: 1.0000 - val_loss: 0.0354 - val_specificity_at_sensitivity: 1.0000 - val_precision: 1.0000 - val_accuracy: 1.0000\n",
      "Epoch 45/50\n",
      "1/1 [==============================] - 2s 2s/step - loss: 0.0130 - specificity_at_sensitivity: 1.0000 - precision: 1.0000 - accuracy: 1.0000 - val_loss: 0.1703 - val_specificity_at_sensitivity: 1.0000 - val_precision: 1.0000 - val_accuracy: 0.9643\n",
      "Epoch 46/50\n",
      "1/1 [==============================] - 7s 7s/step - loss: 0.0255 - specificity_at_sensitivity: 1.0000 - precision: 1.0000 - accuracy: 1.0000 - val_loss: 0.0465 - val_specificity_at_sensitivity: 1.0000 - val_precision: 1.0000 - val_accuracy: 0.9643\n",
      "Epoch 47/50\n",
      "1/1 [==============================] - 2s 2s/step - loss: 0.0067 - specificity_at_sensitivity: 1.0000 - precision: 1.0000 - accuracy: 1.0000 - val_loss: 0.0022 - val_specificity_at_sensitivity: 1.0000 - val_precision: 1.0000 - val_accuracy: 1.0000\n",
      "Epoch 48/50\n",
      "1/1 [==============================] - 6s 6s/step - loss: 0.0011 - specificity_at_sensitivity: 1.0000 - precision: 1.0000 - accuracy: 1.0000 - val_loss: 0.0027 - val_specificity_at_sensitivity: 1.0000 - val_precision: 1.0000 - val_accuracy: 1.0000\n",
      "Epoch 49/50\n",
      "1/1 [==============================] - 2s 2s/step - loss: 0.0734 - specificity_at_sensitivity: 1.0000 - precision: 0.9545 - accuracy: 0.9844 - val_loss: 0.0087 - val_specificity_at_sensitivity: 1.0000 - val_precision: 1.0000 - val_accuracy: 1.0000\n",
      "Epoch 50/50\n",
      "1/1 [==============================] - 6s 6s/step - loss: 0.0051 - specificity_at_sensitivity: 1.0000 - precision: 1.0000 - accuracy: 1.0000 - val_loss: 0.0019 - val_specificity_at_sensitivity: 1.0000 - val_precision: 1.0000 - val_accuracy: 1.0000\n"
     ]
    }
   ],
   "source": [
    "# Constant for epochs\n",
    "EPOCHS = 50\n",
    "early_stop = EarlyStopping(monitor='val_loss', patience=3)\n",
    "# Train the model\n",
    "history = model.fit(\n",
    "    train_generator,\n",
    "    epochs=EPOCHS,\n",
    "    steps_per_epoch=int(120/64),\n",
    "    verbose=1,\n",
    "    validation_data = validation_generator,\n",
    "    validation_steps=int(120/64),\n",
    "    shuffle=True)"
   ]
  },
  {
   "cell_type": "code",
   "execution_count": 25,
   "id": "5a97fb9d",
   "metadata": {},
   "outputs": [
    {
     "name": "stdout",
     "output_type": "stream",
     "text": [
      "27/27 [==============================] - 15s 556ms/step - loss: 0.0214 - specificity_at_sensitivity: 1.0000 - precision: 1.0000 - accuracy: 0.9929\n",
      "The      specificity is : 100.0 %\n",
      "The        precision is : 100.0 %\n",
      "The testing accuracy is : 99.29245114326477 %\n"
     ]
    }
   ],
   "source": [
    "test_accu = model.evaluate(train_generator)\n",
    "print('The      specificity is :',test_accu[1]*100, '%')\n",
    "print('The        precision is :',test_accu[2]*100, '%')\n",
    "print('The testing accuracy is :',test_accu[3]*100, '%')"
   ]
  },
  {
   "cell_type": "code",
   "execution_count": 26,
   "id": "8126e094",
   "metadata": {},
   "outputs": [
    {
     "data": {
      "image/png": "[encoded data removed]",
      "text/plain": [
       "<Figure size 432x288 with 1 Axes>"
      ]
     },
     "metadata": {
      "needs_background": "light"
     },
     "output_type": "display_data"
    },
    {
     "data": {
      "image/png": "[encoded data removed]",
      "text/plain": [
       "<Figure size 432x288 with 1 Axes>"
      ]
     },
     "metadata": {
      "needs_background": "light"
     },
     "output_type": "display_data"
    }
   ],
   "source": [
    "acc = history.history['accuracy']\n",
    "val_acc = history.history['val_accuracy']\n",
    "loss = history.history['loss']\n",
    "val_loss = history.history['val_loss']\n",
    "\n",
    "epochs = range(len(acc))\n",
    "\n",
    "plt.plot(epochs, acc, 'r', label='Training accuracy')\n",
    "plt.plot(epochs, val_acc, 'b', label='Validation accuracy')\n",
    "plt.title('Training and validation accuracy')\n",
    "\n",
    "plt.figure()\n",
    "\n",
    "plt.plot(epochs, loss, 'r', label='Training Loss')\n",
    "plt.plot(epochs, val_loss, 'b', label='Validation Loss')\n",
    "plt.title('Training and validation loss')\n",
    "plt.legend()\n",
    "\n",
    "plt.show()"
   ]
  },
  {
   "cell_type": "code",
   "execution_count": 18,
   "id": "a058a07a",
   "metadata": {},
   "outputs": [
    {
     "name": "stderr",
     "output_type": "stream",
     "text": [
      "WARNING:absl:Found untraced functions such as _jit_compiled_convolution_op, _jit_compiled_convolution_op, _jit_compiled_convolution_op, _jit_compiled_convolution_op while saving (showing 4 of 4). These functions will not be directly callable after loading.\n"
     ]
    },
    {
     "name": "stdout",
     "output_type": "stream",
     "text": [
      "WARNING:tensorflow:Please fix your imports. Module tensorflow.python.training.tracking.util has been moved to tensorflow.python.checkpoint.checkpoint. The old module will be deleted in version 2.11.\n"
     ]
    },
    {
     "name": "stderr",
     "output_type": "stream",
     "text": [
      "WARNING:tensorflow:Please fix your imports. Module tensorflow.python.training.tracking.util has been moved to tensorflow.python.checkpoint.checkpoint. The old module will be deleted in version 2.11.\n"
     ]
    },
    {
     "name": "stdout",
     "output_type": "stream",
     "text": [
      "WARNING:tensorflow:Please fix your imports. Module tensorflow.python.training.tracking.trackable_utils has been moved to tensorflow.python.trackable.trackable_utils. The old module will be deleted in version 2.11.\n"
     ]
    },
    {
     "name": "stderr",
     "output_type": "stream",
     "text": [
      "WARNING:tensorflow:Please fix your imports. Module tensorflow.python.training.tracking.trackable_utils has been moved to tensorflow.python.trackable.trackable_utils. The old module will be deleted in version 2.11.\n"
     ]
    },
    {
     "name": "stdout",
     "output_type": "stream",
     "text": [
      "INFO:tensorflow:Assets written to: saved_model2\\assets\n"
     ]
    },
    {
     "name": "stderr",
     "output_type": "stream",
     "text": [
      "INFO:tensorflow:Assets written to: saved_model2\\assets\n"
     ]
    }
   ],
   "source": [
    "export_dir = 'saved_model2'\n",
    "\n",
    "# Use the tf.saved_model API to save your model in the SavedModel format\n",
    "tf.saved_model.save(model, export_dir = export_dir)"
   ]
  },
  {
   "cell_type": "code",
   "execution_count": 19,
   "id": "79f4a0f2",
   "metadata": {},
   "outputs": [],
   "source": [
    "# Select mode of optimization\n",
    "mode = \"Speed\" \n",
    "\n",
    "if mode == 'Storage':\n",
    "    optimization = tf.lite.Optimize.OPTIMIZE_FOR_SIZE\n",
    "elif mode == 'Speed':\n",
    "    optimization = tf.lite.Optimize.OPTIMIZE_FOR_LATENCY\n",
    "else:\n",
    "    optimization = tf.lite.Optimize.DEFAULT"
   ]
  },
  {
   "cell_type": "code",
   "execution_count": 20,
   "id": "f65548b2",
   "metadata": {},
   "outputs": [
    {
     "data": {
      "text/plain": [
       "1839924"
      ]
     },
     "execution_count": 20,
     "metadata": {},
     "output_type": "execute_result"
    }
   ],
   "source": [
    "converter = tf.lite.TFLiteConverter.from_saved_model(export_dir)\n",
    "converter.target_spec.supported_ops = [\n",
    "  tf.lite.OpsSet.TFLITE_BUILTINS, # enable TensorFlow Lite ops.\n",
    "  tf.lite.OpsSet.SELECT_TF_OPS # enable TensorFlow ops.\n",
    "]\n",
    "tflite_model = converter.convert()\n",
    "open(\"converted_model.tflite\", \"wb\").write(tflite_model)"
   ]
  },
  {
   "cell_type": "code",
   "execution_count": 21,
   "id": "482302f9",
   "metadata": {},
   "outputs": [
    {
     "name": "stderr",
     "output_type": "stream",
     "text": [
      "WARNING:absl:Found untraced functions such as _jit_compiled_convolution_op, _jit_compiled_convolution_op, _jit_compiled_convolution_op, _jit_compiled_convolution_op while saving (showing 4 of 4). These functions will not be directly callable after loading.\n"
     ]
    },
    {
     "name": "stdout",
     "output_type": "stream",
     "text": [
      "INFO:tensorflow:Assets written to: trained_model\\assets\n"
     ]
    },
    {
     "name": "stderr",
     "output_type": "stream",
     "text": [
      "INFO:tensorflow:Assets written to: trained_model\\assets\n"
     ]
    },
    {
     "name": "stdout",
     "output_type": "stream",
     "text": [
      " Model saved \n"
     ]
    }
   ],
   "source": [
    "model.save('trained_model','/model_save_path')\n",
    "model.save('trained_model_image_dataset.h5')\n",
    "print(' Model saved ')"
   ]
  },
  {
   "cell_type": "code",
   "execution_count": null,
   "id": "601826c7",
   "metadata": {},
   "outputs": [],
   "source": []
  }
 ],
 "metadata": {
  "kernelspec": {
   "display_name": "Python 3 (ipykernel)",
   "language": "python",
   "name": "python3"
  },
  "language_info": {
   "codemirror_mode": {
    "name": "ipython",
    "version": 3
   },
   "file_extension": ".py",
   "mimetype": "text/x-python",
   "name": "python",
   "nbconvert_exporter": "python",
   "pygments_lexer": "ipython3",
   "version": "3.9.7"
  }
 },
 "nbformat": 4,
 "nbformat_minor": 5
}
